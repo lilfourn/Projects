{
 "cells": [
  {
   "cell_type": "code",
   "execution_count": 5,
   "metadata": {},
   "outputs": [],
   "source": [
    "import pandas as pd\n",
    "pd.set_option('display.max_columns', 500)\n",
    "import requests"
   ]
  },
  {
   "cell_type": "code",
   "execution_count": 6,
   "metadata": {},
   "outputs": [],
   "source": [
    "def call_endpoint(url, max_level=3, include_new_player_attributes=True):\n",
    "    '''\n",
    "    takes: \n",
    "        - url (str): the API endpoint to call\n",
    "        - max_level (int): level of json normalizing to apply\n",
    "        - include_player_attributes (bool): whether to include player object attributes in the returned dataframe\n",
    "    returns:\n",
    "        - df (pd.DataFrame): a dataframe of the call response content\n",
    "    '''\n",
    "    resp = requests.get(url).json()\n",
    "    data = pd.json_normalize(resp['data'], max_level=max_level)\n",
    "    included = pd.json_normalize(resp['included'], max_level=max_level)\n",
    "    if include_new_player_attributes:\n",
    "        inc_cop = included[included['type'] == 'new_player'].copy().dropna(axis=1)\n",
    "        data = pd.merge(data\n",
    "                        , inc_cop\n",
    "                        , how='left'\n",
    "                        , left_on=['relationships.new_player.data.id'\n",
    "                                   ,'relationships.new_player.data.type']\n",
    "                        , right_on=['id', 'type']\n",
    "                        , suffixes=('', '_new_player'))\n",
    "    return data\n"
   ]
  },
  {
   "cell_type": "code",
   "execution_count": null,
   "metadata": {},
   "outputs": [],
   "source": []
  },
  {
   "cell_type": "code",
   "execution_count": 7,
   "metadata": {},
   "outputs": [
    {
     "ename": "KeyError",
     "evalue": "'included'",
     "output_type": "error",
     "traceback": [
      "\u001b[31m---------------------------------------------------------------------------\u001b[39m",
      "\u001b[31mKeyError\u001b[39m                                  Traceback (most recent call last)",
      "\u001b[36mCell\u001b[39m\u001b[36m \u001b[39m\u001b[32mIn[7]\u001b[39m\u001b[32m, line 2\u001b[39m\n\u001b[32m      1\u001b[39m url = \u001b[33m'\u001b[39m\u001b[33mhttps://partner-api.prizepicks.com/projections?league_id=9&per_page=1000\u001b[39m\u001b[33m'\u001b[39m\n\u001b[32m----> \u001b[39m\u001b[32m2\u001b[39m df = \u001b[43mcall_endpoint\u001b[49m\u001b[43m(\u001b[49m\u001b[43murl\u001b[49m\u001b[43m,\u001b[49m\u001b[43m \u001b[49m\u001b[43minclude_new_player_attributes\u001b[49m\u001b[43m=\u001b[49m\u001b[38;5;28;43;01mTrue\u001b[39;49;00m\u001b[43m)\u001b[49m\n\u001b[32m      3\u001b[39m df.head(\u001b[32m3\u001b[39m)\n",
      "\u001b[36mCell\u001b[39m\u001b[36m \u001b[39m\u001b[32mIn[6]\u001b[39m\u001b[32m, line 12\u001b[39m, in \u001b[36mcall_endpoint\u001b[39m\u001b[34m(url, max_level, include_new_player_attributes)\u001b[39m\n\u001b[32m     10\u001b[39m resp = requests.get(url).json()\n\u001b[32m     11\u001b[39m data = pd.json_normalize(resp[\u001b[33m'\u001b[39m\u001b[33mdata\u001b[39m\u001b[33m'\u001b[39m], max_level=max_level)\n\u001b[32m---> \u001b[39m\u001b[32m12\u001b[39m included = pd.json_normalize(\u001b[43mresp\u001b[49m\u001b[43m[\u001b[49m\u001b[33;43m'\u001b[39;49m\u001b[33;43mincluded\u001b[39;49m\u001b[33;43m'\u001b[39;49m\u001b[43m]\u001b[49m, max_level=max_level)\n\u001b[32m     13\u001b[39m \u001b[38;5;28;01mif\u001b[39;00m include_new_player_attributes:\n\u001b[32m     14\u001b[39m     inc_cop = included[included[\u001b[33m'\u001b[39m\u001b[33mtype\u001b[39m\u001b[33m'\u001b[39m] == \u001b[33m'\u001b[39m\u001b[33mnew_player\u001b[39m\u001b[33m'\u001b[39m].copy().dropna(axis=\u001b[32m1\u001b[39m)\n",
      "\u001b[31mKeyError\u001b[39m: 'included'"
     ]
    }
   ],
   "source": [
    "url = 'https://partner-api.prizepicks.com/projections?league_id=9&per_page=1000'\n",
    "df = call_endpoint(url, include_new_player_attributes=True)\n",
    "df.head(3)"
   ]
  }
 ],
 "metadata": {
  "kernelspec": {
   "display_name": "Python 3",
   "language": "python",
   "name": "python3"
  },
  "language_info": {
   "codemirror_mode": {
    "name": "ipython",
    "version": 3
   },
   "file_extension": ".py",
   "mimetype": "text/x-python",
   "name": "python",
   "nbconvert_exporter": "python",
   "pygments_lexer": "ipython3",
   "version": "3.13.1"
  }
 },
 "nbformat": 4,
 "nbformat_minor": 2
}
